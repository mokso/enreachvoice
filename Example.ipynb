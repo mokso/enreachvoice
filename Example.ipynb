{
 "cells": [
  {
   "cell_type": "code",
   "execution_count": null,
   "metadata": {},
   "outputs": [],
   "source": [
    "from enreachvoice.restapi import Client as EnreachClient\n",
    "import logging\n",
    "\n",
    "# Set logging level to DEBUG\n",
    "#logging.basicConfig(level=logging.DEBUG)\n",
    "\n",
    "\n",
    "# Init client with username and secretkey\n",
    "USERNAME = 'user.name@example.com'\n",
    "SECRETKEY = 'SomeSecretKey'\n",
    "\n",
    "client = EnreachClient(username=USERNAME, secretkey=SECRETKEY)"
   ]
  },
  {
   "cell_type": "code",
   "execution_count": null,
   "metadata": {},
   "outputs": [],
   "source": [
    "# Init client with username and password\n",
    "USERNAME = 'user.name@example.com'\n",
    "PASSWORD = 'SomePasswordHere'\n",
    "\n",
    "#client = EnreachClient(username=USERNAME, password=PASSWORD)"
   ]
  },
  {
   "cell_type": "code",
   "execution_count": null,
   "metadata": {},
   "outputs": [],
   "source": [
    "# Invoke GET /users to retrive all users\n",
    "users = client.invoke_api(path='/users')\n",
    "print(f\"received {len(users)} users\")\n",
    "\n",
    "# Invoke GET /users/{user_id} to retrive a single user"
   ]
  },
  {
   "cell_type": "code",
   "execution_count": null,
   "metadata": {},
   "outputs": [],
   "source": [
    "# Get current avialablity for user\n",
    "client.invoke_api(path='/users/me/availability/current')"
   ]
  },
  {
   "cell_type": "code",
   "execution_count": null,
   "metadata": {},
   "outputs": [],
   "source": [
    "# Create new DND type availability\n",
    "payload = {\n",
    "    \"EventTypeID\": 3, # DND\n",
    "    \"EventSource\": \"Python sample application\",\n",
    "    \"Note\": \"Please do not disturb me\",\n",
    "    \"UserID\": client.userid,\n",
    "}\n",
    "# /users/{userid}/availability\n",
    "newava = client.invoke_api(path=f'/users/{client.userid}/availability', method='POST', payload=payload)\n",
    "newava"
   ]
  },
  {
   "cell_type": "code",
   "execution_count": null,
   "metadata": {},
   "outputs": [],
   "source": [
    "# Remove just created availability\n",
    "client.invoke_api(path=f'/users/{client.userid}/availability/{newava[\"Id\"]}', method='DELETE')"
   ]
  }
 ],
 "metadata": {
  "kernelspec": {
   "display_name": ".venv",
   "language": "python",
   "name": "python3"
  },
  "language_info": {
   "codemirror_mode": {
    "name": "ipython",
    "version": 3
   },
   "file_extension": ".py",
   "mimetype": "text/x-python",
   "name": "python",
   "nbconvert_exporter": "python",
   "pygments_lexer": "ipython3",
   "version": "3.11.9"
  }
 },
 "nbformat": 4,
 "nbformat_minor": 2
}
